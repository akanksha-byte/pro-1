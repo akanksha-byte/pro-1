{
 "cells": [
  {
   "cell_type": "code",
   "execution_count": 1,
   "metadata": {},
   "outputs": [
    {
     "name": "stdout",
     "output_type": "stream",
     "text": [
      "select options\n",
      "1.add\n",
      "2.subtract\n",
      "enter choice(1/2): 2\n",
      "enter a number: 5\n",
      "enter another number: 4\n",
      "5 - 4 = 1\n"
     ]
    }
   ],
   "source": [
    "def add(x,y):\n",
    "    return x+y\n",
    "def subtract(x,y):\n",
    "    return x-y\n",
    "\n",
    "print(\"select options\")\n",
    "print(\"1.add\")\n",
    "print(\"2.subtract\")\n",
    "\n",
    "\n",
    "choice = input(\"enter choice(1/2): \")\n",
    "num1 = int(input(\"enter a number: \"))\n",
    "num2 = int(input(\"enter another number: \"))\n",
    "    \n",
    "if choice == '1':\n",
    "    print(num1 ,\"+\",num2,\"=\", add(num1 ,num2))\n",
    "\n",
    "\n",
    "elif choice == '2':\n",
    "    print(num1 ,\"-\",num2,\"=\", subtract(num1 ,num2))\n",
    "\n",
    "else:\n",
    "    print(\"invalid input\")\n",
    "\n"
   ]
  },
  {
   "cell_type": "code",
   "execution_count": null,
   "metadata": {},
   "outputs": [],
   "source": []
  }
 ],
 "metadata": {
  "kernelspec": {
   "display_name": "Python 3",
   "language": "python",
   "name": "python3"
  },
  "language_info": {
   "codemirror_mode": {
    "name": "ipython",
    "version": 3
   },
   "file_extension": ".py",
   "mimetype": "text/x-python",
   "name": "python",
   "nbconvert_exporter": "python",
   "pygments_lexer": "ipython3",
   "version": "3.7.3"
  }
 },
 "nbformat": 4,
 "nbformat_minor": 2
}
